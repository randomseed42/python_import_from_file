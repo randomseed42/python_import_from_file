{
 "cells": [
  {
   "cell_type": "markdown",
   "id": "0667b6e3",
   "metadata": {},
   "source": [
    "# This is try to import module from static file location"
   ]
  },
  {
   "cell_type": "code",
   "execution_count": null,
   "id": "d13a800c",
   "metadata": {},
   "outputs": [],
   "source": [
    "import os\n",
    "\n",
    "folder_path = './foo'\n",
    "file_name = 'bar.py'\n",
    "module_name = 'bar'\n",
    "\n",
    "folder = os.path.abspath(folder_path)\n",
    "file = os.path.abspath(os.path.join(folder_path, file_name))\n",
    "\n",
    "print(folder, file)"
   ]
  },
  {
   "cell_type": "markdown",
   "id": "412cc5d5",
   "metadata": {},
   "source": [
    "# Method 1"
   ]
  },
  {
   "cell_type": "markdown",
   "id": "e4b381e2",
   "metadata": {},
   "source": [
    "## add folder to sys.path, then import the module or class func from it\n",
    "\n",
    "```python\n",
    "# file content in ./foo/bar.py\n",
    "import os\n",
    "\n",
    "class Bar:\n",
    "    def __init__(self):\n",
    "        self.dir = os.getcwd()\n",
    "\n",
    "    def print_dir(self):\n",
    "        print(self.dir)\n",
    "```"
   ]
  },
  {
   "cell_type": "code",
   "execution_count": null,
   "id": "78301461",
   "metadata": {},
   "outputs": [],
   "source": [
    "import sys\n",
    "sys.path.append(folder)\n",
    "\n",
    "from bar import Bar\n",
    "\n",
    "b = Bar()\n",
    "b.print_dir()"
   ]
  },
  {
   "cell_type": "markdown",
   "id": "9c2ecb49",
   "metadata": {},
   "source": [
    "## manual update the file, to see if auto reload\n",
    "\n",
    "```python\n",
    "# file content in ./foo/bar.py\n",
    "import os\n",
    "\n",
    "class Bar:\n",
    "    def __init__(self):\n",
    "        self.dir = os.getcwd()\n",
    "\n",
    "    def print_dir(self):\n",
    "        print('updated', self.dir)\n",
    "```"
   ]
  },
  {
   "cell_type": "code",
   "execution_count": null,
   "id": "90c4c5d6",
   "metadata": {},
   "outputs": [],
   "source": [
    "from bar import Bar\n",
    "\n",
    "b = Bar()\n",
    "b.print_dir()"
   ]
  },
  {
   "cell_type": "markdown",
   "id": "9df69df0",
   "metadata": {},
   "source": [
    "as you can see, it is not reloaded"
   ]
  },
  {
   "cell_type": "markdown",
   "id": "00edb948",
   "metadata": {},
   "source": [
    "## add the path again to see it reload working"
   ]
  },
  {
   "cell_type": "code",
   "execution_count": null,
   "id": "c60eed5b",
   "metadata": {},
   "outputs": [],
   "source": [
    "sys.path.append(folder)\n",
    "\n",
    "from bar import Bar\n",
    "\n",
    "b = Bar()\n",
    "b.print_dir()"
   ]
  },
  {
   "cell_type": "markdown",
   "id": "6d36195f",
   "metadata": {},
   "source": [
    "as you can see, it is not reloaded"
   ]
  },
  {
   "cell_type": "markdown",
   "id": "c19aec4d",
   "metadata": {},
   "source": [
    "# Method 2"
   ]
  },
  {
   "cell_type": "markdown",
   "id": "83f36d24",
   "metadata": {},
   "source": [
    "## use importlib\n",
    "\n",
    "```python\n",
    "# file content in ./foo/bar.py\n",
    "import os\n",
    "\n",
    "class Bar:\n",
    "    def __init__(self):\n",
    "        self.dir = os.getcwd()\n",
    "\n",
    "    def print_dir(self):\n",
    "        print(self.dir)\n",
    "```"
   ]
  },
  {
   "cell_type": "code",
   "execution_count": null,
   "id": "d1cbb39d",
   "metadata": {},
   "outputs": [],
   "source": [
    "import importlib\n",
    "import sys\n",
    "\n",
    "spec = importlib.util.spec_from_file_location(module_name, file)\n",
    "module = importlib.util.module_from_spec(spec)\n",
    "# sys.modules[spec.name] = module\n",
    "spec.loader.exec_module(module)\n",
    "\n",
    "from bar import Bar\n",
    "\n",
    "b = Bar()\n",
    "b.print_dir()"
   ]
  },
  {
   "cell_type": "markdown",
   "id": "805d0ba0",
   "metadata": {},
   "source": [
    "## manual update the file, to see if auto reload\n",
    "\n",
    "```python\n",
    "# file content in ./foo/bar.py\n",
    "import os\n",
    "\n",
    "class Bar:\n",
    "    def __init__(self):\n",
    "        self.dir = os.getcwd()\n",
    "\n",
    "    def print_dir(self):\n",
    "        print('updated', self.dir)\n",
    "```"
   ]
  },
  {
   "cell_type": "code",
   "execution_count": null,
   "id": "824f560b",
   "metadata": {},
   "outputs": [],
   "source": [
    "spec = importlib.util.spec_from_file_location(module_name, file)\n",
    "module = importlib.util.module_from_spec(spec)\n",
    "sys.modules[spec.name] = module\n",
    "spec.loader.exec_module(module)\n",
    "\n",
    "from bar import Bar\n",
    "\n",
    "b = Bar()\n",
    "b.print_dir()"
   ]
  },
  {
   "cell_type": "markdown",
   "id": "62605273",
   "metadata": {},
   "source": [
    "# Method 3"
   ]
  },
  {
   "cell_type": "markdown",
   "id": "760b3584",
   "metadata": {},
   "source": [
    "## use importlib SourceFileLoader\n",
    "\n",
    "```python\n",
    "# file content in ./foo/bar.py\n",
    "import os\n",
    "\n",
    "class Bar:\n",
    "    def __init__(self):\n",
    "        self.dir = os.getcwd()\n",
    "\n",
    "    def print_dir(self):\n",
    "        print(self.dir)\n",
    "```"
   ]
  },
  {
   "cell_type": "code",
   "execution_count": null,
   "id": "2aca96a8",
   "metadata": {},
   "outputs": [],
   "source": [
    "from importlib.machinery import SourceFileLoader\n",
    "\n",
    "bar = SourceFileLoader(module_name, file).load_module()\n",
    "\n",
    "from bar import Bar\n",
    "\n",
    "b = Bar()\n",
    "b.print_dir()"
   ]
  },
  {
   "cell_type": "markdown",
   "id": "366b9e83",
   "metadata": {},
   "source": [
    "## manual update the file, to see if auto reload\n",
    "\n",
    "```python\n",
    "# file content in ./foo/bar.py\n",
    "import os\n",
    "\n",
    "class Bar:\n",
    "    def __init__(self):\n",
    "        self.dir = os.getcwd()\n",
    "\n",
    "    def print_dir(self):\n",
    "        print('updated', self.dir)\n",
    "```"
   ]
  },
  {
   "cell_type": "code",
   "execution_count": null,
   "id": "b7e79452",
   "metadata": {},
   "outputs": [],
   "source": [
    "bar = SourceFileLoader(module_name, file).load_module()\n",
    "\n",
    "from bar import Bar\n",
    "\n",
    "b = Bar()\n",
    "b.print_dir()"
   ]
  },
  {
   "cell_type": "markdown",
   "id": "e9625c83",
   "metadata": {},
   "source": [
    "# Summary\n",
    "\n",
    "- `sys.path.append(folder)` most easy and common, need to reload in jupyter after update\n",
    "- `SourceFileLoader(module_name, file).load_module()` simple in writing, no need to reload, just re run"
   ]
  }
 ],
 "metadata": {
  "kernelspec": {
   "display_name": "Python 3 (py37)",
   "language": "python",
   "name": "python3"
  },
  "language_info": {
   "codemirror_mode": {
    "name": "ipython",
    "version": 3
   },
   "file_extension": ".py",
   "mimetype": "text/x-python",
   "name": "python",
   "nbconvert_exporter": "python",
   "pygments_lexer": "ipython3",
   "version": "3.7.12"
  },
  "toc": {
   "base_numbering": 1,
   "nav_menu": {},
   "number_sections": false,
   "sideBar": true,
   "skip_h1_title": false,
   "title_cell": "Table of Contents",
   "title_sidebar": "Contents",
   "toc_cell": false,
   "toc_position": {},
   "toc_section_display": true,
   "toc_window_display": false
  }
 },
 "nbformat": 4,
 "nbformat_minor": 5
}
